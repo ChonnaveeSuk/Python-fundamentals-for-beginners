{
  "nbformat": 4,
  "nbformat_minor": 0,
  "metadata": {
    "colab": {
      "provenance": [],
      "toc_visible": true
    },
    "kernelspec": {
      "name": "python3",
      "display_name": "Python 3"
    },
    "language_info": {
      "name": "python"
    }
  },
  "cells": [
    {
      "cell_type": "markdown",
      "source": [
        "### Python Variables: ทุกสิ่งที่คุณต้องรู้"
      ],
      "metadata": {
        "id": "9_MgOQw-Tk0L"
      }
    },
    {
      "cell_type": "markdown",
      "source": [
        "\n",
        "## 1. ตัวแปรคืออะไร?\n",
        "ตัวแปรคือพื้นที่ในหน่วยความจำที่เก็บค่าต่างๆ ซึ่งสามารถเปลี่ยนแปลงได้\n",
        "\n",
        "การประกาศตัวแปรใน Python ทำได้ดังต่อไปนี้"
      ],
      "metadata": {
        "id": "4YI5gTdsQoSx"
      }
    },
    {
      "cell_type": "code",
      "execution_count": null,
      "metadata": {
        "colab": {
          "base_uri": "https://localhost:8080/"
        },
        "id": "_dn7YSx1ObeA",
        "outputId": "56b68652-9dea-413e-c26a-2be7a315c7bc"
      },
      "outputs": [
        {
          "output_type": "stream",
          "name": "stdout",
          "text": [
            "ชื่อ: Python Learner\n",
            "อายุ: 25\n",
            "ส่วนสูง: 175.5 ซม.\n",
            "เป็นนักเรียนหรือไม่: True\n"
          ]
        }
      ],
      "source": [
        "name = \"Python Learner\"  # ตัวแปร string\n",
        "age = 25                 # ตัวแปร integer\n",
        "height = 175.5           # ตัวแปร float\n",
        "is_student = True        # ตัวแปร boolean\n",
        "\n",
        "# แสดงผลตัวแปร\n",
        "print(\"ชื่อ:\", name)\n",
        "print(\"อายุ:\", age)\n",
        "print(\"ส่วนสูง:\", height, \"ซม.\")\n",
        "print(\"เป็นนักเรียนหรือไม่:\", is_student)"
      ]
    },
    {
      "cell_type": "markdown",
      "source": [
        "## 2. ชนิดของตัวแปร (Data Types)\n",
        "Python มีชนิดข้อมูลพื้นฐานดังนี้:\n",
        "\n"
      ],
      "metadata": {
        "id": "ObJdn3wvS_5-"
      }
    },
    {
      "cell_type": "code",
      "source": [
        "# 2.1 ชนิดข้อมูลพื้นฐาน\n",
        "\n",
        "integer_var = 10                  # Integer (int)\n",
        "float_var = 10.5                  # Float\n",
        "string_var = \"Hello, Python!\"     # String (str)\n",
        "boolean_var = True                # Boolean (bool)\n",
        "\n",
        "# แสดงชนิดข้อมูลโดยใช้ฟังก์ชัน type()\n",
        "print(\"\\nชนิดข้อมูลพื้นฐาน:\")\n",
        "print(f\"integer_var: {type(integer_var)}\")\n",
        "print(f\"float_var: {type(float_var)}\")\n",
        "print(f\"string_var: {type(string_var)}\")\n",
        "print(f\"boolean_var: {type(boolean_var)}\")"
      ],
      "metadata": {
        "colab": {
          "base_uri": "https://localhost:8080/"
        },
        "id": "xTri42OOU6tP",
        "outputId": "0aef1bb4-50b8-4f7d-d83d-5c4a1324d7bb"
      },
      "execution_count": null,
      "outputs": [
        {
          "output_type": "stream",
          "name": "stdout",
          "text": [
            "\n",
            "ชนิดข้อมูลพื้นฐาน:\n",
            "integer_var: <class 'int'>\n",
            "float_var: <class 'float'>\n",
            "string_var: <class 'str'>\n",
            "boolean_var: <class 'bool'>\n"
          ]
        }
      ]
    },
    {
      "cell_type": "code",
      "source": [
        "# 2.2 ชนิดข้อมูลแบบคอลเลคชัน\n",
        "\n",
        "list_var = [1, 2, 3, \"apple\", True]        # List - เปลี่ยนแปลงได้\n",
        "tuple_var = (1, 2, 3, \"apple\", True)       # Tuple - เปลี่ยนแปลงไม่ได้\n",
        "set_var = {1, 2, 3, 4, 5}                  # Set - ไม่มีลำดับ ไม่ซ้ำ\n",
        "dict_var = {\"name\": \"Alice\", \"age\": 30}    # Dictionary - key-value pairs\n",
        "\n",
        "print(\"\\nชนิดข้อมูลแบบคอลเลคชัน:\")\n",
        "print(f\"list_var: {type(list_var)}\")\n",
        "print(f\"tuple_var: {type(tuple_var)}\")\n",
        "print(f\"set_var: {type(set_var)}\")\n",
        "print(f\"dict_var: {type(dict_var)}\")"
      ],
      "metadata": {
        "colab": {
          "base_uri": "https://localhost:8080/"
        },
        "id": "Qk9aiCbIVEO3",
        "outputId": "dfff49aa-2a97-4479-a4fa-3344bacdedc2"
      },
      "execution_count": null,
      "outputs": [
        {
          "output_type": "stream",
          "name": "stdout",
          "text": [
            "\n",
            "ชนิดข้อมูลแบบคอลเลคชัน:\n",
            "list_var: <class 'list'>\n",
            "tuple_var: <class 'tuple'>\n",
            "set_var: <class 'set'>\n",
            "dict_var: <class 'dict'>\n"
          ]
        }
      ]
    },
    {
      "cell_type": "markdown",
      "source": [
        "## 3. การตั้งชื่อตัวแปร\n",
        "กฎการตั้งชื่อตัวแปรใน Python:\n",
        "- ประกอบด้วยตัวอักษร, ตัวเลข, และ underscore (_)\n",
        "- ต้องขึ้นต้นด้วยตัวอักษรหรือ underscore เท่านั้น\n",
        "- ห้ามใช้ keywords ของ Python เป็นชื่อตัวแปร\n",
        "- Case sensitive (myVar กับ myvar เป็นตัวแปรคนละตัว)"
      ],
      "metadata": {
        "id": "EcXqmsQ7WIpw"
      }
    },
    {
      "cell_type": "code",
      "source": [
        "# ตัวอย่างชื่อตัวแปรที่ถูกต้อง\n",
        "valid_name = \"John\"\n",
        "_private = \"private variable\"\n",
        "my_var_1 = 100\n",
        "camelCase = \"camelCase naming\"\n",
        "snake_case = \"snake_case naming\"\n",
        "\n",
        "# ตัวอย่างชื่อตัวแปรที่ผิดกฎ (uncomment เพื่อดู error)\n",
        "# 1var = \"invalid\"  # ขึ้นต้นด้วยตัวเลข\n",
        "# my-var = \"invalid\"  # มีเครื่องหมาย -\n",
        "# class = \"invalid\"  # ใช้ keyword ของ Python"
      ],
      "metadata": {
        "id": "At7bDh4kWQgT"
      },
      "execution_count": null,
      "outputs": []
    },
    {
      "cell_type": "markdown",
      "source": [
        "## 4. การแปลงชนิดข้อมูล (Type Conversion)\n"
      ],
      "metadata": {
        "id": "6E6QAucfWvb0"
      }
    },
    {
      "cell_type": "code",
      "source": [
        "print(\"\\nการแปลงชนิดข้อมูล:\")\n",
        "\n",
        "# แปลงเป็น Integer\n",
        "int_from_float = int(10.9)      # แปลง float เป็น int\n",
        "int_from_string = int(\"100\")    # แปลง string เป็น int\n",
        "\n",
        "print(f\"int(10.9) = {int_from_float}\")  # 10 (ตัดทศนิยมทิ้ง)\n",
        "print(f\"int('100') = {int_from_string}\")  # 100\n",
        "\n",
        "# แปลงเป็น Float\n",
        "float_from_int = float(10)      # แปลง int เป็น float\n",
        "float_from_string = float(\"10.5\")  # แปลง string เป็น float\n",
        "\n",
        "print(f\"float(10) = {float_from_int}\")  # 10.0\n",
        "print(f\"float('10.5') = {float_from_string}\")  # 10.5\n",
        "\n",
        "# แปลงเป็น String\n",
        "str_from_int = str(10)          # แปลง int เป็น string\n",
        "str_from_float = str(10.5)      # แปลง float เป็น string\n",
        "str_from_bool = str(True)       # แปลง boolean เป็น string\n",
        "\n",
        "print(f\"str(10) = '{str_from_int}'\")  # '10'\n",
        "print(f\"str(10.5) = '{str_from_float}'\")  # '10.5'\n",
        "print(f\"str(True) = '{str_from_bool}'\")  # 'True'\n",
        "\n",
        "# แปลงเป็น Boolean\n",
        "# หมายเหตุ: ค่าที่เป็น 0, \"\", [], {}, (), None จะถูกแปลงเป็น False\n",
        "bool_from_int = bool(10)        # แปลง int เป็น boolean\n",
        "bool_from_zero = bool(0)        # แปลง 0 เป็น boolean\n",
        "bool_from_string = bool(\"Hello\")  # แปลง string เป็น boolean\n",
        "bool_from_empty = bool(\"\")      # แปลง empty string เป็น boolean\n",
        "\n",
        "print(f\"bool(10) = {bool_from_int}\")  # True\n",
        "print(f\"bool(0) = {bool_from_zero}\")  # False\n",
        "print(f\"bool('Hello') = {bool_from_string}\")  # True\n",
        "print(f\"bool('') = {bool_from_empty}\")  # False"
      ],
      "metadata": {
        "colab": {
          "base_uri": "https://localhost:8080/"
        },
        "id": "ikc_t7muWb1M",
        "outputId": "474bd3a4-964e-4432-dfe6-d9aa6c0d4a05"
      },
      "execution_count": null,
      "outputs": [
        {
          "output_type": "stream",
          "name": "stdout",
          "text": [
            "\n",
            "การแปลงชนิดข้อมูล:\n",
            "int(10.9) = 10\n",
            "int('100') = 100\n",
            "float(10) = 10.0\n",
            "float('10.5') = 10.5\n",
            "str(10) = '10'\n",
            "str(10.5) = '10.5'\n",
            "str(True) = 'True'\n",
            "bool(10) = True\n",
            "bool(0) = False\n",
            "bool('Hello') = True\n",
            "bool('') = False\n"
          ]
        }
      ]
    },
    {
      "cell_type": "markdown",
      "source": [
        "## 5. การกำหนดค่าให้ตัวแปรหลายตัวในบรรทัดเดียว (Multiple Assignment)\n"
      ],
      "metadata": {
        "id": "hIF8QFNwZC9i"
      }
    },
    {
      "cell_type": "code",
      "source": [
        "print(\"\\nการกำหนดค่าหลายตัวแปรในบรรทัดเดียว:\")\n",
        "\n",
        "# กำหนดค่าเดียวกันให้หลายตัวแปร\n",
        "x = y = z = 10\n",
        "print(f\"x = {x}, y = {y}, z = {z}\")\n",
        "\n",
        "# กำหนดค่าหลายค่าให้หลายตัวแปร\n",
        "a, b, c = 10, 20, \"Hello\"\n",
        "print(f\"a = {a}, b = {b}, c = {c}\")\n",
        "\n",
        "# สลับค่าระหว่างตัวแปร (Swapping)\n",
        "p, q = 5, 10\n",
        "print(f\"ก่อนสลับค่า: p = {p}, q = {q}\")\n",
        "p, q = q, p\n",
        "print(f\"หลังสลับค่า: p = {p}, q = {q}\")"
      ],
      "metadata": {
        "colab": {
          "base_uri": "https://localhost:8080/"
        },
        "id": "-PhJoiPPZInk",
        "outputId": "7bfba012-f96d-45e4-8318-932568c03b36"
      },
      "execution_count": null,
      "outputs": [
        {
          "output_type": "stream",
          "name": "stdout",
          "text": [
            "\n",
            "การกำหนดค่าหลายตัวแปรในบรรทัดเดียว:\n",
            "x = 10, y = 10, z = 10\n",
            "a = 10, b = 20, c = Hello\n",
            "ก่อนสลับค่า: p = 5, q = 10\n",
            "หลังสลับค่า: p = 10, q = 5\n"
          ]
        }
      ]
    },
    {
      "cell_type": "markdown",
      "source": [
        "## 6. ตัวแปรแบบคงที่ (Constants)\n",
        "Python ไม่มีคีย์เวิร์ดสำหรับ constants โดยตรง\n",
        "แต่มีข้อตกลงว่าตัวแปรที่มีชื่อเป็นตัวพิมพ์ใหญ่ทั้งหมดจะถือเป็น constant"
      ],
      "metadata": {
        "id": "ps1vxZ8nZPMn"
      }
    },
    {
      "cell_type": "code",
      "source": [
        "PI = 3.14159\n",
        "MAX_STUDENTS = 100\n",
        "DATABASE_URL = \"mysql://localhost:3306/mydb\"\n",
        "\n",
        "print(\"\\nตัวแปรแบบคงที่:\")\n",
        "print(f\"PI = {PI}\")\n",
        "print(f\"MAX_STUDENTS = {MAX_STUDENTS}\")\n",
        "print(f\"DATABASE_URL = {DATABASE_URL}\")"
      ],
      "metadata": {
        "colab": {
          "base_uri": "https://localhost:8080/"
        },
        "id": "FZoqf87fZllQ",
        "outputId": "db5f0b5d-466c-4a0d-8d20-c3dbe2ab87ba"
      },
      "execution_count": null,
      "outputs": [
        {
          "output_type": "stream",
          "name": "stdout",
          "text": [
            "\n",
            "ตัวแปรแบบคงที่:\n",
            "PI = 3.14159\n",
            "MAX_STUDENTS = 100\n",
            "DATABASE_URL = mysql://localhost:3306/mydb\n"
          ]
        }
      ]
    },
    {
      "cell_type": "markdown",
      "source": [
        "## 7. ตัวแปร Global และ Local\n"
      ],
      "metadata": {
        "id": "4azGiqjRZsbW"
      }
    },
    {
      "cell_type": "code",
      "source": [
        "print(\"\\nตัวแปร Global และ Local:\")\n",
        "\n",
        "global_var = \"I am global\"  # ตัวแปร global\n",
        "\n",
        "def show_variables():\n",
        "    local_var = \"I am local\"  # ตัวแปร local\n",
        "    print(f\"Inside function - global_var: {global_var}\")\n",
        "    print(f\"Inside function - local_var: {local_var}\")\n",
        "\n",
        "show_variables()\n",
        "print(f\"Outside function - global_var: {global_var}\")\n",
        "# print(f\"Outside function - local_var: {local_var}\")  # จะเกิด error เพราะ local_var ไม่สามารถเข้าถึงได้นอกฟังก์ชัน"
      ],
      "metadata": {
        "colab": {
          "base_uri": "https://localhost:8080/"
        },
        "id": "HKPFltUWZr17",
        "outputId": "c0c8c513-a9df-400f-906a-c508eb7b5ae3"
      },
      "execution_count": null,
      "outputs": [
        {
          "output_type": "stream",
          "name": "stdout",
          "text": [
            "\n",
            "ตัวแปร Global และ Local:\n",
            "Inside function - global_var: I am global\n",
            "Inside function - local_var: I am local\n",
            "Outside function - global_var: I am global\n"
          ]
        }
      ]
    },
    {
      "cell_type": "markdown",
      "source": [
        "## 8. การเปลี่ยนแปลงตัวแปร Global ภายในฟังก์ชัน\n"
      ],
      "metadata": {
        "id": "T9vIQMyZaboZ"
      }
    },
    {
      "cell_type": "code",
      "source": [
        "print(\"\\nการเปลี่ยนแปลงตัวแปร Global ภายในฟังก์ชัน:\")\n",
        "\n",
        "counter = 0  # ตัวแปร global\n",
        "\n",
        "def increment_counter():\n",
        "    global counter  # ประกาศว่าต้องการใช้ตัวแปร global\n",
        "    counter += 1\n",
        "    print(f\"Counter inside function: {counter}\")\n",
        "\n",
        "print(f\"Initial counter: {counter}\")\n",
        "increment_counter()\n",
        "print(f\"Final counter: {counter}\")"
      ],
      "metadata": {
        "colab": {
          "base_uri": "https://localhost:8080/"
        },
        "id": "FqSNcaxIaezm",
        "outputId": "d207b690-b500-41ea-f16b-9630c0db8799"
      },
      "execution_count": null,
      "outputs": [
        {
          "output_type": "stream",
          "name": "stdout",
          "text": [
            "\n",
            "การเปลี่ยนแปลงตัวแปร Global ภายในฟังก์ชัน:\n",
            "Initial counter: 0\n",
            "Counter inside function: 1\n",
            "Final counter: 1\n"
          ]
        }
      ]
    },
    {
      "cell_type": "markdown",
      "source": [
        "## 9. การใช้ f-strings สำหรับการแสดงผลตัวแปร (Python 3.6+)\n"
      ],
      "metadata": {
        "id": "Hrl6ilChaygF"
      }
    },
    {
      "cell_type": "code",
      "source": [
        "print(\"\\nการใช้ f-strings:\")\n",
        "\n",
        "name = \"Alice\"\n",
        "age = 30\n",
        "salary = 50000.75\n",
        "\n",
        "# แบบเดิม\n",
        "print(\"ชื่อ: \" + name + \", อายุ: \" + str(age) + \", เงินเดือน: \" + str(salary))\n",
        "\n",
        "# แบบใช้ .format()\n",
        "print(\"ชื่อ: {}, อายุ: {}, เงินเดือน: {}\".format(name, age, salary))\n",
        "\n",
        "# แบบใช้ f-strings (Python 3.6+)\n",
        "print(f\"ชื่อ: {name}, อายุ: {age}, เงินเดือน: {salary}\")\n",
        "print(f\"เงินเดือน (จัดรูปแบบ): {salary:.2f} บาท\")\n"
      ],
      "metadata": {
        "colab": {
          "base_uri": "https://localhost:8080/"
        },
        "id": "o0clR-Cja0tf",
        "outputId": "282c2d82-a0a1-4bd6-fc84-df7e16110850"
      },
      "execution_count": null,
      "outputs": [
        {
          "output_type": "stream",
          "name": "stdout",
          "text": [
            "\n",
            "การใช้ f-strings:\n",
            "ชื่อ: Alice, อายุ: 30, เงินเดือน: 50000.75\n",
            "ชื่อ: Alice, อายุ: 30, เงินเดือน: 50000.75\n",
            "ชื่อ: Alice, อายุ: 30, เงินเดือน: 50000.75\n",
            "เงินเดือน (จัดรูปแบบ): 50000.75 บาท\n"
          ]
        }
      ]
    },
    {
      "cell_type": "markdown",
      "source": [
        "## 10. การตรวจสอบว่าตัวแปรมีอยู่หรือไม่\n"
      ],
      "metadata": {
        "id": "mkrMwY5RccS2"
      }
    },
    {
      "cell_type": "code",
      "source": [
        "print(\"\\nการตรวจสอบตัวแปร:\")\n",
        "\n",
        "# ใช้ฟังก์ชัน locals() และ globals() เพื่อดูว่ามีตัวแปรอะไรบ้าง\n",
        "print(\"ตัวแปร 'name' มีอยู่หรือไม่:\", 'name' in locals() or 'name' in globals())\n",
        "print(\"ตัวแปร 'unknown_var' มีอยู่หรือไม่:\", 'unknown_var' in locals() or 'unknown_var' in globals())\n",
        "\n",
        "# ใช้ is เพื่อตรวจสอบว่าตัวแปรเป็น None หรือไม่\n",
        "test_var = None\n",
        "print(\"ตัวแปร test_var เป็น None หรือไม่:\", test_var is None)\n"
      ],
      "metadata": {
        "colab": {
          "base_uri": "https://localhost:8080/"
        },
        "id": "Yilja7cCbZC6",
        "outputId": "984b8065-a782-4b86-9e2e-a7029a686b79"
      },
      "execution_count": null,
      "outputs": [
        {
          "output_type": "stream",
          "name": "stdout",
          "text": [
            "\n",
            "การตรวจสอบตัวแปร:\n",
            "ตัวแปร 'name' มีอยู่หรือไม่: True\n",
            "ตัวแปร 'unknown_var' มีอยู่หรือไม่: False\n",
            "ตัวแปร test_var เป็น None หรือไม่: True\n"
          ]
        }
      ]
    }
  ]
}