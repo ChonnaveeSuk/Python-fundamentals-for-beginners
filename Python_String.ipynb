{
  "cells": [
    {
      "cell_type": "markdown",
      "metadata": {
        "id": "view-in-github",
        "colab_type": "text"
      },
      "source": [
        "<a href=\"https://colab.research.google.com/github/ChonnaveeSuk/Python-fundamentals-for-beginners/blob/main/Python_String.ipynb\" target=\"_parent\"><img src=\"https://colab.research.google.com/assets/colab-badge.svg\" alt=\"Open In Colab\"/></a>"
      ]
    },
    {
      "cell_type": "markdown",
      "source": [
        "# Python String: ทุกสิ่งที่คุณต้องรู้\n"
      ],
      "metadata": {
        "id": "DjduecN1kaEK"
      }
    },
    {
      "cell_type": "markdown",
      "source": [
        "## 1. สตริงคืออะไร?\n",
        "สตริง (String) คือลำดับของตัวอักษรหรือตัวอักขระที่อยู่ในเครื่องหมายคำพูดเดี่ยว ('...') หรือคู่ (\"...\")\n",
        "สตริงเป็นหนึ่งในประเภทข้อมูลพื้นฐานที่สำคัญที่สุดใน Python"
      ],
      "metadata": {
        "id": "PLFRFIIrkdBt"
      }
    },
    {
      "cell_type": "code",
      "source": [
        "# การสร้างสตริง\n",
        "single_quotes = 'Hello, World!'    # ใช้เครื่องหมายคำพูดเดี่ยว\n",
        "double_quotes = \"Hello, Python!\"   # ใช้เครื่องหมายคำพูดคู่\n",
        "triple_quotes = '''This is a\n",
        "multi-line string'''               # ใช้เครื่องหมายคำพูดเดี่ยวสามตัว สำหรับข้อความหลายบรรทัด\n",
        "triple_double_quotes = \"\"\"Another\n",
        "multi-line string\"\"\"\n",
        "\n",
        "print(single_quotes)\n",
        "print(double_quotes)\n",
        "print(triple_quotes)\n",
        "print(triple_double_quotes)"
      ],
      "metadata": {
        "colab": {
          "base_uri": "https://localhost:8080/"
        },
        "id": "QZKBmmiLktW2",
        "outputId": "bcfa4c6b-b81c-4d8a-dd7a-f1c098030068"
      },
      "execution_count": 2,
      "outputs": [
        {
          "output_type": "stream",
          "name": "stdout",
          "text": [
            "Hello, World!\n",
            "Hello, Python!\n",
            "This is a\n",
            "multi-line string\n",
            "Another\n",
            "multi-line string\n"
          ]
        }
      ]
    },
    {
      "cell_type": "markdown",
      "source": [
        "## 2. การเข้าถึงตัวอักษรในสตริง (String Indexing and Slicing)\n",
        "Python ใช้ดัชนี (index) เริ่มต้นจาก 0 สำหรับการเข้าถึงตัวอักษรในสตริง"
      ],
      "metadata": {
        "id": "iy105vFAlBAV"
      }
    },
    {
      "cell_type": "code",
      "source": [
        "# การเข้าถึงตัวอักษรด้วยดัชนี\n",
        "text = \"Python Programming\"\n",
        "print(\"\\nการเข้าถึงตัวอักษรด้วยดัชนี:\")\n",
        "print(f\"ตัวอักษรตัวแรก: {text[0]}\")         # P\n",
        "print(f\"ตัวอักษรตัวที่สอง: {text[1]}\")      # y\n",
        "print(f\"ตัวอักษรตัวสุดท้าย: {text[-1]}\")    # g (ดัชนีติดลบนับจากท้าย)\n",
        "print(f\"ตัวอักษรตัวก่อนสุดท้าย: {text[-2]}\") # n\n",
        "\n",
        "# การตัดสตริง (Slicing)\n",
        "print(\"\\nการตัดสตริง:\")\n",
        "print(f\"ตัวอักษร 0-5: {text[0:6]}\")       # Python\n",
        "print(f\"ตัวอักษร 7 ถึงสุดท้าย: {text[7:]}\") # Programming\n",
        "print(f\"ตัวอักษร 3 ตัวแรก: {text[:3]}\")   # Pyt\n",
        "print(f\"ทุกตัวอักษร: {text[:]}\")         # Python Programming\n",
        "print(f\"ทุกๆตัวอักษรที่ 2: {text[::2]}\")  # Pto rgamn"
      ],
      "metadata": {
        "colab": {
          "base_uri": "https://localhost:8080/"
        },
        "id": "avqtF7jUk6AT",
        "outputId": "e54fee8b-0c81-44c3-aaf2-2ca3628a50dd"
      },
      "execution_count": 3,
      "outputs": [
        {
          "output_type": "stream",
          "name": "stdout",
          "text": [
            "\n",
            "การเข้าถึงตัวอักษรด้วยดัชนี:\n",
            "ตัวอักษรตัวแรก: P\n",
            "ตัวอักษรตัวที่สอง: y\n",
            "ตัวอักษรตัวสุดท้าย: g\n",
            "ตัวอักษรตัวก่อนสุดท้าย: n\n",
            "\n",
            "การตัดสตริง:\n",
            "ตัวอักษร 0-5: Python\n",
            "ตัวอักษร 7 ถึงสุดท้าย: Programming\n",
            "ตัวอักษร 3 ตัวแรก: Pyt\n",
            "ทุกตัวอักษร: Python Programming\n",
            "ทุกๆตัวอักษรที่ 2: Pto rgamn\n"
          ]
        }
      ]
    },
    {
      "cell_type": "markdown",
      "source": [
        "## 3. การดำเนินการพื้นฐานกับสตริง\n"
      ],
      "metadata": {
        "id": "gZVDSBTsl0ja"
      }
    },
    {
      "cell_type": "code",
      "source": [
        "first_name = \"John\"\n",
        "last_name = \"Doe\"\n",
        "full_name = first_name + \" \" + last_name\n",
        "print(\"\\nการต่อสตริง:\")\n",
        "print(f\"ชื่อเต็ม: {full_name}\")  # John Doe\n",
        "\n",
        "# การทำซ้ำสตริง (String Repetition)\n",
        "print(\"\\nการทำซ้ำสตริง:\")\n",
        "print(\"*\" * 10)  # **********\n",
        "print(\"Ha\" * 3)  # HaHaHa\n",
        "\n",
        "# การตรวจสอบสมาชิก (Membership)\n",
        "print(\"\\nการตรวจสอบสมาชิก:\")\n",
        "sentence = \"Python is amazing\"\n",
        "print(f\"'Python' อยู่ใน sentence หรือไม่: {'Python' in sentence}\")  # True\n",
        "print(f\"'Java' อยู่ใน sentence หรือไม่: {'Java' in sentence}\")      # False\n",
        "\n",
        "# ความยาวของสตริง\n",
        "print(\"\\nความยาวของสตริง:\")\n",
        "message = \"Hello, World!\"\n",
        "print(f\"ความยาวของ '{message}': {len(message)}\")  # 13\n"
      ],
      "metadata": {
        "colab": {
          "base_uri": "https://localhost:8080/"
        },
        "id": "hXwcguvkl3oL",
        "outputId": "52873e6c-565d-4498-ee30-58facc499149"
      },
      "execution_count": 4,
      "outputs": [
        {
          "output_type": "stream",
          "name": "stdout",
          "text": [
            "\n",
            "การต่อสตริง:\n",
            "ชื่อเต็ม: John Doe\n",
            "\n",
            "การทำซ้ำสตริง:\n",
            "**********\n",
            "HaHaHa\n",
            "\n",
            "การตรวจสอบสมาชิก:\n",
            "'Python' อยู่ใน sentence หรือไม่: True\n",
            "'Java' อยู่ใน sentence หรือไม่: False\n",
            "\n",
            "ความยาวของสตริง:\n",
            "ความยาวของ 'Hello, World!': 13\n"
          ]
        }
      ]
    },
    {
      "cell_type": "markdown",
      "source": [
        "## 4. เมธอดของสตริง (String Methods)\n",
        "Python มีเมธอดมากมายที่ช่วยในการจัดการสตริง"
      ],
      "metadata": {
        "id": "XGS4RDDnmNEw"
      }
    },
    {
      "cell_type": "code",
      "source": [
        "# การแปลงเป็นตัวพิมพ์เล็ก/ใหญ่\n",
        "text = \"Python is FUN\"\n",
        "print(\"\\nการแปลงเป็นตัวพิมพ์เล็ก/ใหญ่:\")\n",
        "print(f\"ตัวพิมพ์เล็ก: {text.lower()}\")          # python is fun\n",
        "print(f\"ตัวพิมพ์ใหญ่: {text.upper()}\")          # PYTHON IS FUN\n",
        "print(f\"สลับตัวพิมพ์: {text.swapcase()}\")       # pYTHON IS fun\n",
        "print(f\"ตัวอักษรแรกตัวใหญ่: {'hello'.capitalize()}\")  # Hello\n",
        "print(f\"ตัวอักษรแรกของแต่ละคำตัวใหญ่: {'hello world'.title()}\")  # Hello World"
      ],
      "metadata": {
        "colab": {
          "base_uri": "https://localhost:8080/"
        },
        "id": "vGtfVvCsmTeg",
        "outputId": "f0163225-1718-4e7c-f1ee-de3926194a25"
      },
      "execution_count": 5,
      "outputs": [
        {
          "output_type": "stream",
          "name": "stdout",
          "text": [
            "\n",
            "การแปลงเป็นตัวพิมพ์เล็ก/ใหญ่:\n",
            "ตัวพิมพ์เล็ก: python is fun\n",
            "ตัวพิมพ์ใหญ่: PYTHON IS FUN\n",
            "สลับตัวพิมพ์: pYTHON IS fun\n",
            "ตัวอักษรแรกตัวใหญ่: Hello\n",
            "ตัวอักษรแรกของแต่ละคำตัวใหญ่: Hello World\n"
          ]
        }
      ]
    },
    {
      "cell_type": "code",
      "source": [
        "# การค้นหาและแทนที่\n",
        "text = \"Python is amazing and Python is easy to learn\"\n",
        "print(\"\\nการค้นหาและแทนที่:\")\n",
        "print(f\"ตำแหน่งแรกของคำว่า 'Python': {text.find('Python')}\")   # 0\n",
        "print(f\"ตำแหน่งสุดท้ายของคำว่า 'Python': {text.rfind('Python')}\")  # 22\n",
        "print(f\"นับจำนวนคำว่า 'Python': {text.count('Python')}\")  # 2\n",
        "print(f\"แทนที่ 'Python' ด้วย 'Java': {text.replace('Python', 'Java')}\")  # Java is amazing and Java is easy to learn"
      ],
      "metadata": {
        "colab": {
          "base_uri": "https://localhost:8080/"
        },
        "id": "YyGLsGCGq4dp",
        "outputId": "db523c82-71fb-4c0b-bf57-32b8cc8e7465"
      },
      "execution_count": 7,
      "outputs": [
        {
          "output_type": "stream",
          "name": "stdout",
          "text": [
            "\n",
            "การค้นหาและแทนที่:\n",
            "ตำแหน่งแรกของคำว่า 'Python': 0\n",
            "ตำแหน่งสุดท้ายของคำว่า 'Python': 22\n",
            "นับจำนวนคำว่า 'Python': 2\n",
            "แทนที่ 'Python' ด้วย 'Java': Java is amazing and Java is easy to learn\n"
          ]
        }
      ]
    },
    {
      "cell_type": "code",
      "source": [
        "# การตัดช่องว่าง (Stripping)\n",
        "text = \"   Hello, World!   \"\n",
        "print(\"\\nการตัดช่องว่าง:\")\n",
        "print(f\"ตัดช่องว่างทั้งสองข้าง: '{text.strip()}'\")   # 'Hello, World!'\n",
        "print(f\"ตัดช่องว่างด้านซ้าย: '{text.lstrip()}'\")    # 'Hello, World!   '\n",
        "print(f\"ตัดช่องว่างด้านขวา: '{text.rstrip()}'\")     # '   Hello, World!"
      ],
      "metadata": {
        "colab": {
          "base_uri": "https://localhost:8080/"
        },
        "id": "4aCQvyw6so3W",
        "outputId": "18ba772b-5379-4957-e00f-ba45d8d76d02"
      },
      "execution_count": 8,
      "outputs": [
        {
          "output_type": "stream",
          "name": "stdout",
          "text": [
            "\n",
            "การตัดช่องว่าง:\n",
            "ตัดช่องว่างทั้งสองข้าง: 'Hello, World!'\n",
            "ตัดช่องว่างด้านซ้าย: 'Hello, World!   '\n",
            "ตัดช่องว่างด้านขวา: '   Hello, World!'\n"
          ]
        }
      ]
    },
    {
      "cell_type": "code",
      "source": [
        "# การแยกและรวมสตริง\n",
        "text = \"Python,Java,C++,JavaScript\"\n",
        "print(\"\\nการแยกและรวมสตริง:\")\n",
        "languages = text.split(\",\")\n",
        "print(f\"แยกสตริง: {languages}\")  # ['Python', 'Java', 'C++', 'JavaScript']\n",
        "joined_text = \"-\".join(languages)\n",
        "print(f\"รวมสตริง: {joined_text}\")  # Python-Java-C++-JavaScript"
      ],
      "metadata": {
        "colab": {
          "base_uri": "https://localhost:8080/"
        },
        "id": "ug5sNWMTs_Fy",
        "outputId": "8f87ee9a-7e8e-4b06-ea6d-fdeaf060ef96"
      },
      "execution_count": 9,
      "outputs": [
        {
          "output_type": "stream",
          "name": "stdout",
          "text": [
            "\n",
            "การแยกและรวมสตริง:\n",
            "แยกสตริง: ['Python', 'Java', 'C++', 'JavaScript']\n",
            "รวมสตริง: Python-Java-C++-JavaScript\n"
          ]
        }
      ]
    },
    {
      "cell_type": "code",
      "source": [
        "#การตรวจสอบสตริง\n",
        "print(\"\\nการตรวจสอบสตริง:\")\n",
        "print(f\"ประกอบด้วยตัวอักษรหรือไม่: {'Hello123'.isalnum()}\")  # True\n",
        "print(f\"ประกอบด้วยตัวอักษรเท่านั้นหรือไม่: {'Hello123'.isalpha()}\")  # False\n",
        "print(f\"ประกอบด้วยตัวเลขเท่านั้นหรือไม่: {'123'.isdigit()}\")  # True\n",
        "print(f\"เป็นตัวพิมพ์เล็กทั้งหมดหรือไม่: {'hello'.islower()}\")  # True\n",
        "print(f\"เป็นตัวพิมพ์ใหญ่ทั้งหมดหรือไม่: {'HELLO'.isupper()}\")  # True\n",
        "print(f\"เริ่มต้นด้วย 'Py' หรือไม่: {'Python'.startswith('Py')}\")  # True\n",
        "print(f\"ลงท้ายด้วย 'on' หรือไม่: {'Python'.endswith('on')}\")  # True"
      ],
      "metadata": {
        "colab": {
          "base_uri": "https://localhost:8080/"
        },
        "id": "0u9IgwO0tp7y",
        "outputId": "fc58ec46-f5b2-44d1-af05-b8072a92a810"
      },
      "execution_count": 10,
      "outputs": [
        {
          "output_type": "stream",
          "name": "stdout",
          "text": [
            "\n",
            "การตรวจสอบสตริง:\n",
            "ประกอบด้วยตัวอักษรหรือไม่: True\n",
            "ประกอบด้วยตัวอักษรเท่านั้นหรือไม่: False\n",
            "ประกอบด้วยตัวเลขเท่านั้นหรือไม่: True\n",
            "เป็นตัวพิมพ์เล็กทั้งหมดหรือไม่: True\n",
            "เป็นตัวพิมพ์ใหญ่ทั้งหมดหรือไม่: True\n",
            "เริ่มต้นด้วย 'Py' หรือไม่: True\n",
            "ลงท้ายด้วย 'on' หรือไม่: True\n"
          ]
        }
      ]
    },
    {
      "cell_type": "markdown",
      "source": [
        "## 5. การจัดรูปแบบสตริง (String Formatting)\n",
        "Python มีหลายวิธีในการจัดรูปแบบสตริง\n"
      ],
      "metadata": {
        "id": "9Fy3WXIZuVoe"
      }
    },
    {
      "cell_type": "code",
      "source": [
        "# ใช้ % operator (แบบเก่า)\n",
        "name = \"Alice\"\n",
        "age = 25\n",
        "print(\"\\nString Formatting แบบ % operator:\")\n",
        "print(\"ชื่อ: %s, อายุ: %d\" % (name, age))  # ชื่อ: Alice, อายุ: 25\n"
      ],
      "metadata": {
        "colab": {
          "base_uri": "https://localhost:8080/"
        },
        "id": "xfDfpDdYuUTz",
        "outputId": "d5c6a95c-090c-49c5-b4ad-678f6bd908e5"
      },
      "execution_count": 12,
      "outputs": [
        {
          "output_type": "stream",
          "name": "stdout",
          "text": [
            "\n",
            "String Formatting แบบ % operator:\n",
            "ชื่อ: Alice, อายุ: 25\n"
          ]
        }
      ]
    },
    {
      "cell_type": "code",
      "source": [
        "# ใช้ .format() method\n",
        "print(\"\\nString Formatting แบบ .format():\")\n",
        "print(\"ชื่อ: {}, อายุ: {}\".format(name, age))  # ชื่อ: Alice, อายุ: 25\n",
        "print(\"ชื่อ: {0}, อายุ: {1}, ชื่อ: {0}\".format(name, age))  # ชื่อ: Alice, อายุ: 25, ชื่อ: Alice\n",
        "print(\"ชื่อ: {n}, อายุ: {a}\".format(n=name, a=age))  # ชื่อ: Alice, อายุ: 25"
      ],
      "metadata": {
        "colab": {
          "base_uri": "https://localhost:8080/"
        },
        "id": "FA9SFq-7uiR_",
        "outputId": "20e5c413-2cec-4a80-8920-fff49a4ff4bb"
      },
      "execution_count": 13,
      "outputs": [
        {
          "output_type": "stream",
          "name": "stdout",
          "text": [
            "\n",
            "String Formatting แบบ .format():\n",
            "ชื่อ: Alice, อายุ: 25\n",
            "ชื่อ: Alice, อายุ: 25, ชื่อ: Alice\n",
            "ชื่อ: Alice, อายุ: 25\n"
          ]
        }
      ]
    },
    {
      "cell_type": "code",
      "source": [
        "# ใช้ f-string (Python 3.6+)\n",
        "print(\"\\nString Formatting แบบ f-string:\")\n",
        "print(f\"ชื่อ: {name}, อายุ: {age}\")  # ชื่อ: Alice, อายุ: 25\n",
        "print(f\"อายุในปีหน้า: {age + 1}\")  # อายุในปีหน้า: 26"
      ],
      "metadata": {
        "colab": {
          "base_uri": "https://localhost:8080/"
        },
        "id": "intvMlH3wUVm",
        "outputId": "36be2c41-0e74-4cbb-93a1-6d478368f182"
      },
      "execution_count": 14,
      "outputs": [
        {
          "output_type": "stream",
          "name": "stdout",
          "text": [
            "\n",
            "String Formatting แบบ f-string:\n",
            "ชื่อ: Alice, อายุ: 25\n",
            "อายุในปีหน้า: 26\n"
          ]
        }
      ]
    },
    {
      "cell_type": "code",
      "source": [
        "# การจัดรูปแบบตัวเลข\n",
        "pi = 3.141592653589793\n",
        "print(\"\\nการจัดรูปแบบตัวเลข:\")\n",
        "print(f\"ค่า pi: {pi}\")  # ค่า pi: 3.141592653589793\n",
        "print(f\"ค่า pi (2 ตำแหน่ง): {pi:.2f}\")  # ค่า pi (2 ตำแหน่ง): 3.14\n",
        "print(f\"ค่า pi (ความกว้าง 10, 2 ตำแหน่ง): {pi:10.2f}\")  # ค่า pi (ความกว้าง 10, 2 ตำแหน่ง):       3.14"
      ],
      "metadata": {
        "colab": {
          "base_uri": "https://localhost:8080/"
        },
        "id": "M3mlAZcZwj9N",
        "outputId": "a8c813c0-3d90-4f4f-ab11-9c5799c2b119"
      },
      "execution_count": 15,
      "outputs": [
        {
          "output_type": "stream",
          "name": "stdout",
          "text": [
            "\n",
            "การจัดรูปแบบตัวเลข:\n",
            "ค่า pi: 3.141592653589793\n",
            "ค่า pi (2 ตำแหน่ง): 3.14\n",
            "ค่า pi (ความกว้าง 10, 2 ตำแหน่ง):       3.14\n"
          ]
        }
      ]
    },
    {
      "cell_type": "code",
      "source": [
        "# การจัดตำแหน่ง\n",
        "print(\"\\nการจัดตำแหน่ง:\")\n",
        "print(f\"{'ชิดซ้าย':<10}|\")  # ชิดซ้าย    |\n",
        "print(f\"{'ตรงกลาง':^10}|\")  # ตรงกลาง  |\n",
        "print(f\"{'ชิดขวา':>10}|\")  # ชิดขวา|\n"
      ],
      "metadata": {
        "colab": {
          "base_uri": "https://localhost:8080/"
        },
        "id": "rah6hJH-xGvT",
        "outputId": "4ffaa823-16cd-4fab-b822-d157a9736550"
      },
      "execution_count": 16,
      "outputs": [
        {
          "output_type": "stream",
          "name": "stdout",
          "text": [
            "\n",
            "การจัดตำแหน่ง:\n",
            "ชิดซ้าย   |\n",
            " ตรงกลาง  |\n",
            "    ชิดขวา|\n"
          ]
        }
      ]
    },
    {
      "cell_type": "markdown",
      "source": [
        "## 6. Escape Characters\n",
        "คือตัวอักษรพิเศษที่ใช้เพื่อแสดงอักขระที่แสดงผลไม่ได้โดยตรง"
      ],
      "metadata": {
        "id": "dliYHHqoxVyh"
      }
    },
    {
      "cell_type": "code",
      "source": [
        "print(\"\\nEscape Characters:\")\n",
        "print(\"บรรทัดที่ 1\\nบรรทัดที่ 2\")  # \\n ขึ้นบรรทัดใหม่\n",
        "print(\"ข้อความ\\tที่คั่นด้วยแท็บ\")  # \\t แท็บ\n",
        "print(\"เขากล่าวว่า \\\"Python สนุกมาก\\\"\")  # \\\" แสดงเครื่องหมายคำพูดคู่\n",
        "print('เธอพูดว่า \\'สตริงใน Python ง่ายมาก\\'')  # \\' แสดงเครื่องหมายคำพูดเดี่ยว\n",
        "print(\"C:\\\\Users\\\\Username\\\\Documents\")  # \\\\ แสดงเครื่องหมาย \\\n",
        "\n",
        "# Raw String (r-string)\n",
        "print(\"\\nRaw String:\")\n",
        "print(r\"C:\\Users\\Username\\Documents\")  # ไม่ตีความ escape characters"
      ],
      "metadata": {
        "colab": {
          "base_uri": "https://localhost:8080/"
        },
        "id": "4bgtulOixZck",
        "outputId": "7081ef58-8a54-4ec8-e7d2-6bf58d16f5c3"
      },
      "execution_count": 17,
      "outputs": [
        {
          "output_type": "stream",
          "name": "stdout",
          "text": [
            "\n",
            "Escape Characters:\n",
            "บรรทัดที่ 1\n",
            "บรรทัดที่ 2\n",
            "ข้อความ\tที่คั่นด้วยแท็บ\n",
            "เขากล่าวว่า \"Python สนุกมาก\"\n",
            "เธอพูดว่า 'สตริงใน Python ง่ายมาก'\n",
            "C:\\Users\\Username\\Documents\n",
            "\n",
            "Raw String:\n",
            "C:\\Users\\Username\\Documents\n"
          ]
        }
      ]
    },
    {
      "cell_type": "markdown",
      "source": [
        "## 7. การเปรียบเทียบสตริง\n",
        "เราสามารถใช้ตัวดำเนินการเปรียบเทียบกับสตริงได้"
      ],
      "metadata": {
        "id": "d6Esha2vx9m0"
      }
    },
    {
      "cell_type": "code",
      "source": [
        "print(\"\\nการเปรียบเทียบสตริง:\")\n",
        "a = \"apple\"\n",
        "b = \"banana\"\n",
        "c = \"apple\"\n",
        "\n",
        "print(f\"'apple' == 'apple': {a == c}\")  # True\n",
        "print(f\"'apple' != 'banana': {a != b}\")  # True\n",
        "print(f\"'apple' < 'banana': {a < b}\")  # True (เปรียบเทียบตามลำดับ lexicographical)\n",
        "print(f\"'apple' > 'banana': {a > b}\")  # False\n",
        "print(f\"'Z' < 'a': {'Z' < 'a'}\")  # True (ตัวพิมพ์ใหญ่มาก่อนตัวพิมพ์เล็กใน ASCII)"
      ],
      "metadata": {
        "colab": {
          "base_uri": "https://localhost:8080/"
        },
        "id": "bLoXvg_vx5wh",
        "outputId": "8116cfc5-6cf8-44c8-a483-cfd98cdb8c1f"
      },
      "execution_count": 18,
      "outputs": [
        {
          "output_type": "stream",
          "name": "stdout",
          "text": [
            "\n",
            "การเปรียบเทียบสตริง:\n",
            "'apple' == 'apple': True\n",
            "'apple' != 'banana': True\n",
            "'apple' < 'banana': True\n",
            "'apple' > 'banana': False\n",
            "'Z' < 'a': True\n"
          ]
        }
      ]
    },
    {
      "cell_type": "markdown",
      "source": [
        "## 8. สตริงกับการเข้ารหัส (Encoding/Decoding)\n",
        "การทำงานกับข้อความในภาษาที่หลากหลายหรือตัวอักขระพิเศษ"
      ],
      "metadata": {
        "id": "bFcMy1EX0CDM"
      }
    },
    {
      "cell_type": "code",
      "source": [
        "# การเข้ารหัสและถอดรหัส\n",
        "print(\"\\nการเข้ารหัสและถอดรหัส:\")\n",
        "text = \"สวัสดี Python\"\n",
        "encoded = text.encode('utf-8')\n",
        "print(f\"ข้อความเข้ารหัส: {encoded}\")  # b'\\xe0\\xb8\\xaa\\xe0\\xb8\\xa7\\xe0\\xb8\\xb1\\xe0\\xb8\\xaa\\xe0\\xb8\\x94\\xe0\\xb8\\xb5 Python'\n",
        "decoded = encoded.decode('utf-8')\n",
        "print(f\"ข้อความถอดรหัส: {decoded}\")  # สวัสดี Python"
      ],
      "metadata": {
        "colab": {
          "base_uri": "https://localhost:8080/"
        },
        "id": "AewaANxx0Hj0",
        "outputId": "70a27e2d-0fda-4cac-9a1b-54d0b42404bc"
      },
      "execution_count": 19,
      "outputs": [
        {
          "output_type": "stream",
          "name": "stdout",
          "text": [
            "\n",
            "การเข้ารหัสและถอดรหัส:\n",
            "ข้อความเข้ารหัส: b'\\xe0\\xb8\\xaa\\xe0\\xb8\\xa7\\xe0\\xb8\\xb1\\xe0\\xb8\\xaa\\xe0\\xb8\\x94\\xe0\\xb8\\xb5 Python'\n",
            "ข้อความถอดรหัส: สวัสดี Python\n"
          ]
        }
      ]
    },
    {
      "cell_type": "markdown",
      "source": [
        "## 9. การแปลงข้อมูลระหว่างสตริงกับชนิดข้อมูลอื่น\n"
      ],
      "metadata": {
        "id": "pUSVAwI-0y-W"
      }
    },
    {
      "cell_type": "code",
      "source": [
        "# แปลงสตริงเป็นจำนวนเต็ม\n",
        "print(\"\\nการแปลงสตริงเป็นตัวเลข:\")\n",
        "num_str = \"123\"\n",
        "num_int = int(num_str)\n",
        "print(f\"สตริงเป็นจำนวนเต็ม: {num_int}, ชนิด: {type(num_int)}\")  # 123, ชนิด: <class 'int'>\n",
        "\n",
        "# แปลงสตริงเป็นจำนวนทศนิยม\n",
        "float_str = \"3.14\"\n",
        "float_num = float(float_str)\n",
        "print(f\"สตริงเป็นทศนิยม: {float_num}, ชนิด: {type(float_num)}\")  # 3.14, ชนิด: <class 'float'>\n",
        "\n",
        "# แปลงตัวเลขเป็นสตริง\n",
        "num = 456\n",
        "num_as_str = str(num)\n",
        "print(f\"ตัวเลขเป็นสตริง: {num_as_str}, ชนิด: {type(num_as_str)}\")  # '456', ชนิด: <class 'str'>\n"
      ],
      "metadata": {
        "colab": {
          "base_uri": "https://localhost:8080/"
        },
        "id": "0uFQD6Op02Ux",
        "outputId": "b4368bee-78b4-4eaf-aced-69e2d0e85daf"
      },
      "execution_count": 20,
      "outputs": [
        {
          "output_type": "stream",
          "name": "stdout",
          "text": [
            "\n",
            "การแปลงสตริงเป็นตัวเลข:\n",
            "สตริงเป็นจำนวนเต็ม: 123, ชนิด: <class 'int'>\n",
            "สตริงเป็นทศนิยม: 3.14, ชนิด: <class 'float'>\n",
            "ตัวเลขเป็นสตริง: 456, ชนิด: <class 'str'>\n"
          ]
        }
      ]
    },
    {
      "cell_type": "markdown",
      "source": [],
      "metadata": {
        "id": "eptP6PWf0_AV"
      }
    },
    {
      "cell_type": "code",
      "source": [],
      "metadata": {
        "id": "CIA2oD9Z09b1"
      },
      "execution_count": null,
      "outputs": []
    }
  ],
  "metadata": {
    "colab": {
      "provenance": [],
      "authorship_tag": "ABX9TyNUulUWLV2DaZrxaLOx/wEV",
      "include_colab_link": true
    },
    "kernelspec": {
      "display_name": "Python 3",
      "name": "python3"
    },
    "language_info": {
      "name": "python"
    }
  },
  "nbformat": 4,
  "nbformat_minor": 0
}